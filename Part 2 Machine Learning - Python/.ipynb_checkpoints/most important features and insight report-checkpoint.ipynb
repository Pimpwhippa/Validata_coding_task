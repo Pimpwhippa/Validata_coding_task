{
 "cells": [
  {
   "cell_type": "code",
   "execution_count": null,
   "id": "laden-uganda",
   "metadata": {},
   "outputs": [],
   "source": [
    "In this notebook, I will compare KNN and DecisionTree models performance. \n",
    "Then I will analyze the features that are most important for predicting loan approval\n",
    "and provide insights to the bank on how to improve their loan approval process."
   ]
  },
  {
   "cell_type": "code",
   "execution_count": 1,
   "id": "exclusive-cathedral",
   "metadata": {},
   "outputs": [
    {
     "data": {
      "text/html": [
       "<div>\n",
       "<style scoped>\n",
       "    .dataframe tbody tr th:only-of-type {\n",
       "        vertical-align: middle;\n",
       "    }\n",
       "\n",
       "    .dataframe tbody tr th {\n",
       "        vertical-align: top;\n",
       "    }\n",
       "\n",
       "    .dataframe thead th {\n",
       "        text-align: right;\n",
       "    }\n",
       "</style>\n",
       "<table border=\"1\" class=\"dataframe\">\n",
       "  <thead>\n",
       "    <tr style=\"text-align: right;\">\n",
       "      <th></th>\n",
       "      <th>Gender</th>\n",
       "      <th>Married</th>\n",
       "      <th>Dependents</th>\n",
       "      <th>Education</th>\n",
       "      <th>Self_Employed</th>\n",
       "      <th>ApplicantIncome</th>\n",
       "      <th>CoapplicantIncome</th>\n",
       "      <th>LoanAmount</th>\n",
       "      <th>Loan_Amount_Term</th>\n",
       "      <th>Credit_History</th>\n",
       "      <th>Property_Area</th>\n",
       "      <th>Loan_Status</th>\n",
       "    </tr>\n",
       "  </thead>\n",
       "  <tbody>\n",
       "    <tr>\n",
       "      <th>0</th>\n",
       "      <td>1</td>\n",
       "      <td>0</td>\n",
       "      <td>0</td>\n",
       "      <td>0</td>\n",
       "      <td>0</td>\n",
       "      <td>5849</td>\n",
       "      <td>0.0</td>\n",
       "      <td>146.412162</td>\n",
       "      <td>360.0</td>\n",
       "      <td>1.0</td>\n",
       "      <td>2</td>\n",
       "      <td>1</td>\n",
       "    </tr>\n",
       "    <tr>\n",
       "      <th>1</th>\n",
       "      <td>1</td>\n",
       "      <td>1</td>\n",
       "      <td>1</td>\n",
       "      <td>0</td>\n",
       "      <td>0</td>\n",
       "      <td>4583</td>\n",
       "      <td>1508.0</td>\n",
       "      <td>128.000000</td>\n",
       "      <td>360.0</td>\n",
       "      <td>1.0</td>\n",
       "      <td>0</td>\n",
       "      <td>0</td>\n",
       "    </tr>\n",
       "    <tr>\n",
       "      <th>2</th>\n",
       "      <td>1</td>\n",
       "      <td>1</td>\n",
       "      <td>0</td>\n",
       "      <td>0</td>\n",
       "      <td>1</td>\n",
       "      <td>3000</td>\n",
       "      <td>0.0</td>\n",
       "      <td>66.000000</td>\n",
       "      <td>360.0</td>\n",
       "      <td>1.0</td>\n",
       "      <td>2</td>\n",
       "      <td>1</td>\n",
       "    </tr>\n",
       "    <tr>\n",
       "      <th>3</th>\n",
       "      <td>1</td>\n",
       "      <td>1</td>\n",
       "      <td>0</td>\n",
       "      <td>1</td>\n",
       "      <td>0</td>\n",
       "      <td>2583</td>\n",
       "      <td>2358.0</td>\n",
       "      <td>120.000000</td>\n",
       "      <td>360.0</td>\n",
       "      <td>1.0</td>\n",
       "      <td>2</td>\n",
       "      <td>1</td>\n",
       "    </tr>\n",
       "    <tr>\n",
       "      <th>4</th>\n",
       "      <td>1</td>\n",
       "      <td>0</td>\n",
       "      <td>0</td>\n",
       "      <td>0</td>\n",
       "      <td>0</td>\n",
       "      <td>6000</td>\n",
       "      <td>0.0</td>\n",
       "      <td>141.000000</td>\n",
       "      <td>360.0</td>\n",
       "      <td>1.0</td>\n",
       "      <td>2</td>\n",
       "      <td>1</td>\n",
       "    </tr>\n",
       "    <tr>\n",
       "      <th>...</th>\n",
       "      <td>...</td>\n",
       "      <td>...</td>\n",
       "      <td>...</td>\n",
       "      <td>...</td>\n",
       "      <td>...</td>\n",
       "      <td>...</td>\n",
       "      <td>...</td>\n",
       "      <td>...</td>\n",
       "      <td>...</td>\n",
       "      <td>...</td>\n",
       "      <td>...</td>\n",
       "      <td>...</td>\n",
       "    </tr>\n",
       "    <tr>\n",
       "      <th>609</th>\n",
       "      <td>0</td>\n",
       "      <td>0</td>\n",
       "      <td>0</td>\n",
       "      <td>0</td>\n",
       "      <td>0</td>\n",
       "      <td>2900</td>\n",
       "      <td>0.0</td>\n",
       "      <td>71.000000</td>\n",
       "      <td>360.0</td>\n",
       "      <td>1.0</td>\n",
       "      <td>0</td>\n",
       "      <td>1</td>\n",
       "    </tr>\n",
       "    <tr>\n",
       "      <th>610</th>\n",
       "      <td>1</td>\n",
       "      <td>1</td>\n",
       "      <td>3</td>\n",
       "      <td>0</td>\n",
       "      <td>0</td>\n",
       "      <td>4106</td>\n",
       "      <td>0.0</td>\n",
       "      <td>40.000000</td>\n",
       "      <td>180.0</td>\n",
       "      <td>1.0</td>\n",
       "      <td>0</td>\n",
       "      <td>1</td>\n",
       "    </tr>\n",
       "    <tr>\n",
       "      <th>611</th>\n",
       "      <td>1</td>\n",
       "      <td>1</td>\n",
       "      <td>1</td>\n",
       "      <td>0</td>\n",
       "      <td>0</td>\n",
       "      <td>8072</td>\n",
       "      <td>240.0</td>\n",
       "      <td>253.000000</td>\n",
       "      <td>360.0</td>\n",
       "      <td>1.0</td>\n",
       "      <td>2</td>\n",
       "      <td>1</td>\n",
       "    </tr>\n",
       "    <tr>\n",
       "      <th>612</th>\n",
       "      <td>1</td>\n",
       "      <td>1</td>\n",
       "      <td>2</td>\n",
       "      <td>0</td>\n",
       "      <td>0</td>\n",
       "      <td>7583</td>\n",
       "      <td>0.0</td>\n",
       "      <td>187.000000</td>\n",
       "      <td>360.0</td>\n",
       "      <td>1.0</td>\n",
       "      <td>2</td>\n",
       "      <td>1</td>\n",
       "    </tr>\n",
       "    <tr>\n",
       "      <th>613</th>\n",
       "      <td>0</td>\n",
       "      <td>0</td>\n",
       "      <td>0</td>\n",
       "      <td>0</td>\n",
       "      <td>1</td>\n",
       "      <td>4583</td>\n",
       "      <td>0.0</td>\n",
       "      <td>133.000000</td>\n",
       "      <td>360.0</td>\n",
       "      <td>0.0</td>\n",
       "      <td>1</td>\n",
       "      <td>0</td>\n",
       "    </tr>\n",
       "  </tbody>\n",
       "</table>\n",
       "<p>614 rows × 12 columns</p>\n",
       "</div>"
      ],
      "text/plain": [
       "     Gender  Married  Dependents  Education  Self_Employed  ApplicantIncome  \\\n",
       "0         1        0           0          0              0             5849   \n",
       "1         1        1           1          0              0             4583   \n",
       "2         1        1           0          0              1             3000   \n",
       "3         1        1           0          1              0             2583   \n",
       "4         1        0           0          0              0             6000   \n",
       "..      ...      ...         ...        ...            ...              ...   \n",
       "609       0        0           0          0              0             2900   \n",
       "610       1        1           3          0              0             4106   \n",
       "611       1        1           1          0              0             8072   \n",
       "612       1        1           2          0              0             7583   \n",
       "613       0        0           0          0              1             4583   \n",
       "\n",
       "     CoapplicantIncome  LoanAmount  Loan_Amount_Term  Credit_History  \\\n",
       "0                  0.0  146.412162             360.0             1.0   \n",
       "1               1508.0  128.000000             360.0             1.0   \n",
       "2                  0.0   66.000000             360.0             1.0   \n",
       "3               2358.0  120.000000             360.0             1.0   \n",
       "4                  0.0  141.000000             360.0             1.0   \n",
       "..                 ...         ...               ...             ...   \n",
       "609                0.0   71.000000             360.0             1.0   \n",
       "610                0.0   40.000000             180.0             1.0   \n",
       "611              240.0  253.000000             360.0             1.0   \n",
       "612                0.0  187.000000             360.0             1.0   \n",
       "613                0.0  133.000000             360.0             0.0   \n",
       "\n",
       "     Property_Area  Loan_Status  \n",
       "0                2            1  \n",
       "1                0            0  \n",
       "2                2            1  \n",
       "3                2            1  \n",
       "4                2            1  \n",
       "..             ...          ...  \n",
       "609              0            1  \n",
       "610              0            1  \n",
       "611              2            1  \n",
       "612              2            1  \n",
       "613              1            0  \n",
       "\n",
       "[614 rows x 12 columns]"
      ]
     },
     "execution_count": 1,
     "metadata": {},
     "output_type": "execute_result"
    }
   ],
   "source": [
    "# load preprocessed_dataset.csv\n",
    "\n",
    "import pandas as pd\n",
    "df = pd.read_csv('preprocessed_dataset.csv')\n",
    "df"
   ]
  },
  {
   "cell_type": "code",
   "execution_count": null,
   "id": "random-viewer",
   "metadata": {},
   "outputs": [],
   "source": []
  },
  {
   "cell_type": "code",
   "execution_count": 2,
   "id": "uniform-deployment",
   "metadata": {},
   "outputs": [],
   "source": [
    "# select 6 features after exploratory data analysis and split to train, test sets\n",
    "\n",
    "import numpy as np\n",
    "from sklearn.model_selection import train_test_split\n",
    "from sklearn.metrics import accuracy_score as ac, f1_score, classification_report\n",
    "\n",
    "x=df[['Dependents','Education','Self_Employed','ApplicantIncome','LoanAmount','Credit_History']]\n",
    "y=df[['Loan_Status']]\n"
   ]
  },
  {
   "cell_type": "code",
   "execution_count": null,
   "id": "attempted-columbia",
   "metadata": {},
   "outputs": [],
   "source": [
    "# First, start with building KNN model"
   ]
  },
  {
   "cell_type": "code",
   "execution_count": 3,
   "id": "concrete-basin",
   "metadata": {},
   "outputs": [
    {
     "data": {
      "image/png": "[encoded data removed]",
      "text/plain": [
       "<Figure size 432x288 with 1 Axes>"
      ]
     },
     "metadata": {
      "needs_background": "light"
     },
     "output_type": "display_data"
    },
    {
     "name": "stdout",
     "output_type": "stream",
     "text": [
      "KNN best accuracy 0.7792207792207793\n"
     ]
    }
   ],
   "source": [
    "# scale x and transform y to fit KNN\n",
    "# find the best n_neighbors, which is 11\n",
    "\n",
    "from sklearn import datasets, neighbors\n",
    "from sklearn.preprocessing import StandardScaler\n",
    "import matplotlib.pyplot as plt\n",
    "\n",
    "ss = StandardScaler()\n",
    "x_tf = ss.fit_transform(x)\n",
    "\n",
    "x_tf_train,x_tf_test,y_r_train,y_r_test=train_test_split(x_tf,y.values.ravel(),test_size=0.25,random_state=50)\n",
    "\n",
    "scoreListknn = []\n",
    "for i in range(1,21):\n",
    "    KNclassifier = neighbors.KNeighborsClassifier(n_neighbors = i)\n",
    "    KNclassifier.fit(x_tf_train, y_r_train)\n",
    "    scoreListknn.append(KNclassifier.score(x_tf_test, y_r_test))\n",
    "    \n",
    "KNAcc = max(scoreListknn)\n",
    "\n",
    "plt.plot(range(1,21), scoreListknn)\n",
    "plt.xticks(np.arange(1,21,1))\n",
    "plt.xlabel(\"K value\")\n",
    "plt.ylabel(\"Score\")\n",
    "plt.show()\n",
    "print(\"KNN best accuracy\", KNAcc)"
   ]
  },
  {
   "cell_type": "code",
   "execution_count": 4,
   "id": "desperate-bolivia",
   "metadata": {},
   "outputs": [
    {
     "name": "stdout",
     "output_type": "stream",
     "text": [
      "KNN Accuracy: 77.92207792207793\n",
      "KNN Cross Validated Average Accuracy: 80.61975209916034\n",
      "F1 Score:  0.8521739130434782\n",
      "              precision    recall  f1-score   support\n",
      "\n",
      "           0       0.88      0.42      0.56        53\n",
      "           1       0.76      0.97      0.85       101\n",
      "\n",
      "    accuracy                           0.78       154\n",
      "   macro avg       0.82      0.69      0.71       154\n",
      "weighted avg       0.80      0.78      0.75       154\n",
      "\n"
     ]
    }
   ],
   "source": [
    "# evaluate KNN model\n",
    "\n",
    "from sklearn.model_selection import cross_val_score\n",
    "\n",
    "y_predknn = KNclassifier.predict(x_tf_test)\n",
    "\n",
    "print(\"KNN Accuracy:\", ac(y_r_test,y_predknn)*100)\n",
    "sco_knn =(cross_val_score(KNclassifier,x_tf,y.values.ravel(),cv=5))\n",
    "print(\"KNN Cross Validated Average Accuracy:\", np.mean(sco_knn)*100)\n",
    "print(\"F1 Score: \",f1_score(y_r_test,y_predknn))\n",
    "print(classification_report(y_r_test, y_predknn))"
   ]
  },
  {
   "cell_type": "code",
   "execution_count": null,
   "id": "satisfied-notification",
   "metadata": {},
   "outputs": [],
   "source": []
  },
  {
   "cell_type": "code",
   "execution_count": null,
   "id": "synthetic-invalid",
   "metadata": {},
   "outputs": [],
   "source": [
    "# Next, building DecisionTree model"
   ]
  },
  {
   "cell_type": "code",
   "execution_count": 5,
   "id": "congressional-banner",
   "metadata": {},
   "outputs": [],
   "source": [
    "# splitting the original data without scaling\n",
    "# train the DecisionTree model with best tuned parameters\n",
    "\n",
    "from sklearn.model_selection import train_test_split\n",
    "from sklearn.tree import DecisionTreeClassifier \n",
    "\n",
    "x_train,x_test,y_train,y_test=train_test_split(x,y,test_size=0.25,random_state=50)\n",
    "\n",
    "model=DecisionTreeClassifier(max_depth=3,min_samples_leaf = 35)\n",
    "model.fit(x_train,y_train)\n",
    "y_pred = model.predict(x_test)\n"
   ]
  },
  {
   "cell_type": "code",
   "execution_count": 6,
   "id": "satisfied-radar",
   "metadata": {},
   "outputs": [
    {
     "name": "stdout",
     "output_type": "stream",
     "text": [
      "DecisionTree Accuracy: 78.57142857142857\n",
      "DecisionTree CV Average Accuracy: 80.9462881514061\n",
      "F1 Score:  0.8558951965065502\n",
      "              precision    recall  f1-score   support\n",
      "\n",
      "           0       0.88      0.43      0.58        53\n",
      "           1       0.77      0.97      0.86       101\n",
      "\n",
      "    accuracy                           0.79       154\n",
      "   macro avg       0.83      0.70      0.72       154\n",
      "weighted avg       0.81      0.79      0.76       154\n",
      "\n"
     ]
    }
   ],
   "source": [
    "# evaluate DecisionTree model\n",
    "\n",
    "from sklearn.metrics import accuracy_score as ac, f1_score, classification_report\n",
    "from sklearn.model_selection import cross_val_score\n",
    "\n",
    "print(\"DecisionTree Accuracy:\", ac(y_test,y_pred)*100)\n",
    "sco =(cross_val_score(model,x,y,cv=5))\n",
    "print(\"DecisionTree CV Average Accuracy:\", np.mean(sco)*100)\n",
    "print(\"F1 Score: \",f1_score(y_test,y_pred))\n",
    "print(classification_report(y_test, y_pred))"
   ]
  },
  {
   "cell_type": "code",
   "execution_count": null,
   "id": "vietnamese-neighborhood",
   "metadata": {},
   "outputs": [],
   "source": []
  },
  {
   "cell_type": "code",
   "execution_count": null,
   "id": "linear-benchmark",
   "metadata": {},
   "outputs": [],
   "source": [
    "From the evaluation above, we can see that both models perform very similarly to each other.\n",
    "\n",
    "Even with an extra step of x-scaling for KNN, DecisionTree actually performs slightly better.\n",
    "\n",
    "KNN Accuracy: 77.92207792207793\n",
    "KNN Cross Validated Average Accuracy: 80.61975209916034\n",
    "    \n",
    "DecisionTree Accuracy: 78.57142857142857\n",
    "DecisionTree CV Average Accuracy: 80.9462881514061\n",
    "    \n",
    "so we will choose DecisionTree to deploy."
   ]
  },
  {
   "cell_type": "code",
   "execution_count": null,
   "id": "fifth-traveler",
   "metadata": {},
   "outputs": [],
   "source": []
  },
  {
   "cell_type": "code",
   "execution_count": null,
   "id": "lightweight-representative",
   "metadata": {},
   "outputs": [],
   "source": [
    "# Next, I will analyse what feature is the most important in the loan approval decision"
   ]
  },
  {
   "cell_type": "code",
   "execution_count": 14,
   "id": "thick-buffer",
   "metadata": {},
   "outputs": [
    {
     "data": {
      "image/png": "[encoded data removed]",
      "text/plain": [
       "<Figure size 432x288 with 1 Axes>"
      ]
     },
     "metadata": {
      "needs_background": "light"
     },
     "output_type": "display_data"
    }
   ],
   "source": [
    "import matplotlib.pyplot as plt\n",
    "\n",
    "std = np.std([model.feature_importances_ ], axis=0)\n",
    "\n",
    "importances=pd.Series(model.feature_importances_, index=x.columns)\n",
    "\n",
    "fig, ax = plt.subplots()\n",
    "importances.plot.bar(yerr=std, ax=ax)\n",
    "ax.set_title(\"Feature importances using MDI\")\n",
    "ax.set_ylabel(\"Mean decrease in impurity\")\n",
    "fig.tight_layout()"
   ]
  },
  {
   "cell_type": "code",
   "execution_count": null,
   "id": "weighted-friendly",
   "metadata": {},
   "outputs": [],
   "source": []
  },
  {
   "cell_type": "code",
   "execution_count": 9,
   "id": "norman-conservation",
   "metadata": {},
   "outputs": [
    {
     "name": "stdout",
     "output_type": "stream",
     "text": [
      "DecisionTree with one feature Accuracy 78.57142857142857\n",
      "DecisionTree with one feature CV average Accuracy 80.9462881514061\n"
     ]
    }
   ],
   "source": [
    "# check with training DecisionTree model with only one feature Credit_History\n",
    "\n",
    "x7=df[['Credit_History']]\n",
    "y7=df[['Loan_Status']]\n",
    "x_train7, x_test7,y_train7,y_test7 =train_test_split(x7,y7,test_size=0.25,random_state=50)\n",
    "model7=DecisionTreeClassifier(max_depth=3,min_samples_leaf = 35)\n",
    "model7.fit(x_train7,y_train7)\n",
    "y_pre7 = model7.predict(x_test7)\n",
    "print(\"DecisionTree with one feature Accuracy\", ac(y_test7,y_pre7)*100)\n",
    "sco7=(cross_val_score(model7,x7,y7,cv=5))\n",
    "print(\"DecisionTree with one feature CV average Accuracy\", np.mean(sco7)*100)"
   ]
  },
  {
   "cell_type": "code",
   "execution_count": null,
   "id": "bridal-seafood",
   "metadata": {},
   "outputs": [],
   "source": []
  },
  {
   "cell_type": "code",
   "execution_count": null,
   "id": "fleet-witness",
   "metadata": {},
   "outputs": [],
   "source": [
    "Report summarizing the findings and insights\n",
    "\n",
    "Both models are performing similarly with accuracy approximately from 78-80% \n",
    "which could be improved further, but for now should be good enough for production. \n",
    "\n",
    "Nonetheless, for recall score for label 0, not approve the loan,\n",
    "both of them still not doing very well, at only around 42%.\n",
    "\n",
    "That means, out of all those customers who should NOT be approved a loan,\n",
    "the bank can only tell less than half correctly.\n",
    "\n",
    "This also reflects in F1 score that is weighted towards precision (high precision, low recall).\n",
    "which means, the bank only says no to very few people they are sure of not able to pay back.\n",
    "\n",
    "If the bank wants to be stricter in not giving the loan to those who might not be able to pay back,\n",
    "then we will have to re-balance this number.\n",
    "\n",
    "Lastly, only Credit_History column alone can predict defaulting customers as well as using the whole dataset"
   ]
  },
  {
   "cell_type": "code",
   "execution_count": null,
   "id": "blessed-willow",
   "metadata": {},
   "outputs": [],
   "source": []
  },
  {
   "cell_type": "code",
   "execution_count": null,
   "id": "realistic-minneapolis",
   "metadata": {},
   "outputs": [],
   "source": []
  }
 ],
 "metadata": {
  "kernelspec": {
   "display_name": "Python 3",
   "language": "python",
   "name": "python3"
  },
  "language_info": {
   "codemirror_mode": {
    "name": "ipython",
    "version": 3
   },
   "file_extension": ".py",
   "mimetype": "text/x-python",
   "name": "python",
   "nbconvert_exporter": "python",
   "pygments_lexer": "ipython3",
   "version": "3.8.10"
  }
 },
 "nbformat": 4,
 "nbformat_minor": 5
}
